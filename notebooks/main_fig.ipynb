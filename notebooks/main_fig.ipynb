{
 "cells": [
  {
   "cell_type": "code",
   "execution_count": 20,
   "id": "717ca543-3016-4d03-86a4-96b9b8cbf4e4",
   "metadata": {},
   "outputs": [],
   "source": [
    "import sys\n",
    "sys.path.append(\"../\")\n",
    "import wilds\n",
    "from wilds.common.grouper import CombinatorialGrouper\n",
    "\n",
    "import numpy as np\n",
    "import pandas as pd\n",
    "import matplotlib.pyplot as plt\n",
    "import joblib\n",
    "import torch\n",
    "import seaborn as sns\n",
    "\n",
    "sns.set_style(\"whitegrid\")\n",
    "\n",
    "plt.rcParams['text.usetex'] = True #Let TeX do the typsetting\n",
    "plt.rcParams['text.latex.preamble'] = r\"\"\"\n",
    "\\usepackage{sansmath}\n",
    "\\sansmath\n",
    "\"\"\" #Force sans-serif math mode (for axes labels)\n",
    "plt.rcParams['font.family'] = 'sans-serif' # ... for regular text\n",
    "plt.rcParams['font.sans-serif'] = 'Helvetica, Avant Garde, Computer Modern Sans serif' # Choose a nice font here\n",
    "\n",
    "fontsize = 15"
   ]
  },
  {
   "cell_type": "code",
   "execution_count": 2,
   "id": "ef5ed18b-4945-4c12-a9b4-98b2b6fcfcbd",
   "metadata": {},
   "outputs": [],
   "source": [
    "def get_res(log_path, col_names):\n",
    "    df = pd.read_csv(f\"{log_path}/train_eval.csv\")\n",
    "    trn_res = df[col_names].values.tolist()[-1]\n",
    "    df = pd.read_csv(f\"{log_path}/test_eval.csv\")\n",
    "    tst_res = df[col_names].values.tolist()[-1]\n",
    "    return trn_res, tst_res"
   ]
  },
  {
   "cell_type": "code",
   "execution_count": 3,
   "id": "670d8cfa-03e3-4a16-aa79-00ba51323871",
   "metadata": {},
   "outputs": [],
   "source": [
    "ds_name = \"celebA\"\n",
    "\n",
    "col_names = ['acc_y:notblond_male:0', 'acc_y:notblond_male:1', 'acc_y:blond_male:0', 'acc_y:blond_male:1']\n",
    "\n",
    "data = {}\n",
    "log_path = \"./data/celebA/erm-resnet50\"\n",
    "data[\"ERM\"] = np.concatenate(get_res(log_path, col_names))\n",
    "log_path = \"./data/celebA/iwerm-resnet50\"\n",
    "data[\"IWERM\"] = np.concatenate(get_res(log_path, col_names))\n",
    "log_path = \"./data/celebA/erm-dp_resnet50-lr1e-3-dpsgd_1e-5_0.1_1.0_0.0001\"\n",
    "data[\"DP ERM\"] = np.concatenate(get_res(log_path, col_names))\n",
    "log_path = \"./data/celebA/weightederm-dp_resnet50-dpsgd_1e-5_0.1_1.0_0.0001\"\n",
    "data[\"DP ERM IW\"] = np.concatenate(get_res(log_path, col_names))"
   ]
  },
  {
   "cell_type": "code",
   "execution_count": 4,
   "id": "f7d6abad-cf5a-4b43-8300-fe1bf3fedb32",
   "metadata": {},
   "outputs": [],
   "source": [
    "order = ['ERM', 'IWERM', 'DP ERM', 'DP ERM IW']\n",
    "method = [(False, False), (True, False), (False, True), (True, True)]\n",
    "\n",
    "data2 = {}\n",
    "for j, k in enumerate(order):\n",
    "    for i in [3]:\n",
    "        hair = \"not blond\" if i < 2 else \"blond\"\n",
    "        gender = \"female\" if (i % 2 == 0) else \"male\"\n",
    "        \n",
    "        data2[2*j] = (data[k][i], \"train\", hair, gender, method[j][0], method[j][1])\n",
    "        data2[2*j+1] = (data[k][i+4], \"test\", hair, gender, method[j][0], method[j][1])\n",
    "        \n",
    "df = pd.DataFrame.from_dict(data2, orient=\"index\", columns=[\"acc.\", \"split\", \"hair\", \"gender\", \"IW\", \"DP\"])"
   ]
  },
  {
   "cell_type": "code",
   "execution_count": 6,
   "id": "4a2d8df1-e741-4049-a7dd-d17c4ad8c401",
   "metadata": {},
   "outputs": [
    {
     "data": {
      "text/html": [
       "<div>\n",
       "<style scoped>\n",
       "    .dataframe tbody tr th:only-of-type {\n",
       "        vertical-align: middle;\n",
       "    }\n",
       "\n",
       "    .dataframe tbody tr th {\n",
       "        vertical-align: top;\n",
       "    }\n",
       "\n",
       "    .dataframe thead th {\n",
       "        text-align: right;\n",
       "    }\n",
       "</style>\n",
       "<table border=\"1\" class=\"dataframe\">\n",
       "  <thead>\n",
       "    <tr style=\"text-align: right;\">\n",
       "      <th></th>\n",
       "      <th>acc.</th>\n",
       "      <th>split</th>\n",
       "      <th>hair</th>\n",
       "      <th>gender</th>\n",
       "      <th>IW</th>\n",
       "      <th>DP</th>\n",
       "    </tr>\n",
       "  </thead>\n",
       "  <tbody>\n",
       "    <tr>\n",
       "      <th>0</th>\n",
       "      <td>0.994232</td>\n",
       "      <td>train</td>\n",
       "      <td>blond</td>\n",
       "      <td>male</td>\n",
       "      <td>False</td>\n",
       "      <td>False</td>\n",
       "    </tr>\n",
       "    <tr>\n",
       "      <th>1</th>\n",
       "      <td>0.416667</td>\n",
       "      <td>test</td>\n",
       "      <td>blond</td>\n",
       "      <td>male</td>\n",
       "      <td>False</td>\n",
       "      <td>False</td>\n",
       "    </tr>\n",
       "    <tr>\n",
       "      <th>2</th>\n",
       "      <td>0.994232</td>\n",
       "      <td>train</td>\n",
       "      <td>blond</td>\n",
       "      <td>male</td>\n",
       "      <td>True</td>\n",
       "      <td>False</td>\n",
       "    </tr>\n",
       "    <tr>\n",
       "      <th>3</th>\n",
       "      <td>0.488889</td>\n",
       "      <td>test</td>\n",
       "      <td>blond</td>\n",
       "      <td>male</td>\n",
       "      <td>True</td>\n",
       "      <td>False</td>\n",
       "    </tr>\n",
       "    <tr>\n",
       "      <th>4</th>\n",
       "      <td>0.406205</td>\n",
       "      <td>train</td>\n",
       "      <td>blond</td>\n",
       "      <td>male</td>\n",
       "      <td>False</td>\n",
       "      <td>True</td>\n",
       "    </tr>\n",
       "    <tr>\n",
       "      <th>5</th>\n",
       "      <td>0.294444</td>\n",
       "      <td>test</td>\n",
       "      <td>blond</td>\n",
       "      <td>male</td>\n",
       "      <td>False</td>\n",
       "      <td>True</td>\n",
       "    </tr>\n",
       "    <tr>\n",
       "      <th>6</th>\n",
       "      <td>0.955347</td>\n",
       "      <td>train</td>\n",
       "      <td>blond</td>\n",
       "      <td>male</td>\n",
       "      <td>True</td>\n",
       "      <td>True</td>\n",
       "    </tr>\n",
       "    <tr>\n",
       "      <th>7</th>\n",
       "      <td>0.850000</td>\n",
       "      <td>test</td>\n",
       "      <td>blond</td>\n",
       "      <td>male</td>\n",
       "      <td>True</td>\n",
       "      <td>True</td>\n",
       "    </tr>\n",
       "  </tbody>\n",
       "</table>\n",
       "</div>"
      ],
      "text/plain": [
       "       acc.  split   hair gender     IW     DP\n",
       "0  0.994232  train  blond   male  False  False\n",
       "1  0.416667   test  blond   male  False  False\n",
       "2  0.994232  train  blond   male   True  False\n",
       "3  0.488889   test  blond   male   True  False\n",
       "4  0.406205  train  blond   male  False   True\n",
       "5  0.294444   test  blond   male  False   True\n",
       "6  0.955347  train  blond   male   True   True\n",
       "7  0.850000   test  blond   male   True   True"
      ]
     },
     "execution_count": 6,
     "metadata": {},
     "output_type": "execute_result"
    }
   ],
   "source": [
    "df"
   ]
  },
  {
   "cell_type": "code",
   "execution_count": 23,
   "id": "c7a701d4-b838-4f77-b8fc-4fee3e3dbf59",
   "metadata": {},
   "outputs": [
    {
     "data": {
      "image/png": "[encoded data removed]",
      "text/plain": [
       "<Figure size 432x288 with 1 Axes>"
      ]
     },
     "metadata": {},
     "output_type": "display_data"
    }
   ],
   "source": [
    "sns.set(font_scale=1.4)\n",
    "g = sns.barplot(x=\"IW\", y=\"acc.\", hue=\"split\", data=df[df['DP'] == False])\n",
    "plt.legend(frameon=False)\n",
    "g.set_title(\"No DP\")\n",
    "g.set_ylabel(\"Accuracy\")\n",
    "g.set_xlabel(\"\")\n",
    "g.set_xticklabels(['No IW', 'IW'])\n",
    "plt.tight_layout()\n",
    "plt.savefig(\"./figs/celebA_male_blond_nonDP.png\")"
   ]
  },
  {
   "cell_type": "code",
   "execution_count": 25,
   "id": "0fdd74c7-885a-456d-803f-5f71f095835e",
   "metadata": {},
   "outputs": [
    {
     "data": {
      "image/png": "[encoded data removed]",
      "text/plain": [
       "<Figure size 432x288 with 1 Axes>"
      ]
     },
     "metadata": {},
     "output_type": "display_data"
    }
   ],
   "source": [
    "sns.set(font_scale=1.4)\n",
    "g = sns.barplot(x=\"IW\", y=\"acc.\", hue=\"split\", data=df[df['DP'] == True])\n",
    "plt.legend(frameon=False)\n",
    "g.set_title(\"DP\")\n",
    "g.set_ylabel(\"Accuracy\")\n",
    "g.set_xlabel(\"\")\n",
    "g.set_xticklabels(['No IW', 'IW'])\n",
    "plt.tight_layout()\n",
    "plt.savefig(\"./figs/celebA_male_blond_DP.png\")"
   ]
  },
  {
   "cell_type": "code",
   "execution_count": null,
   "id": "abdbf528-f6b3-4734-a662-8d9f1308a08e",
   "metadata": {},
   "outputs": [],
   "source": []
  },
  {
   "cell_type": "code",
   "execution_count": 5,
   "id": "bdafea1c-8e14-44e3-8682-8168b3717b12",
   "metadata": {},
   "outputs": [
    {
     "name": "stderr",
     "output_type": "stream",
     "text": [
      "No handles with labels found to put in legend.\n"
     ]
    },
    {
     "data": {
      "image/png": "[encoded data removed]",
      "text/plain": [
       "<Figure size 432x432 with 4 Axes>"
      ]
     },
     "metadata": {},
     "output_type": "display_data"
    }
   ],
   "source": [
    "sns.set(font_scale=1.25)\n",
    "g = sns.FacetGrid(df, col=\"IW\", row=\"DP\", margin_titles=True)\n",
    "g.map_dataframe(sns.barplot, x=\"split\", y=\"acc.\")\n",
    "#g.set_titles(fontsize=fontsize)\n",
    "plt.legend(frameon=False)\n",
    "g.set_xlabels(\"\")\n",
    "g.tight_layout()\n",
    "plt.savefig(\"./figs/celebA_male_blond.png\")"
   ]
  },
  {
   "cell_type": "code",
   "execution_count": null,
   "id": "1663b64e-a2e0-49d3-9606-bf3467dcb5ee",
   "metadata": {},
   "outputs": [],
   "source": []
  }
 ],
 "metadata": {
  "kernelspec": {
   "display_name": "Python 3",
   "language": "python",
   "name": "python3"
  },
  "language_info": {
   "codemirror_mode": {
    "name": "ipython",
    "version": 3
   },
   "file_extension": ".py",
   "mimetype": "text/x-python",
   "name": "python",
   "nbconvert_exporter": "python",
   "pygments_lexer": "ipython3",
   "version": "3.8.12"
  }
 },
 "nbformat": 4,
 "nbformat_minor": 5
}
