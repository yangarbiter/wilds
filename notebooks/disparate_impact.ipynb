{
 "cells": [
  {
   "cell_type": "code",
   "execution_count": 1,
   "id": "f4adfe02-286e-47f9-b081-76269e36d79d",
   "metadata": {},
   "outputs": [],
   "source": [
    "import numpy as np\n",
    "import pandas as pd\n",
    "import matplotlib.pyplot as plt\n",
    "\n",
    "fontsize = 15"
   ]
  },
  {
   "cell_type": "code",
   "execution_count": 58,
   "id": "f518cd2e-02eb-4e17-880f-fabd1c8e7a92",
   "metadata": {},
   "outputs": [],
   "source": [
    "def get_res(log_path, col_names):\n",
    "    df = pd.read_csv(f\"{log_path}/train_eval.csv\")\n",
    "    trn_res = df[col_names].values.tolist()[-1]\n",
    "    df = pd.read_csv(f\"{log_path}/test_eval.csv\")\n",
    "    tst_res = df[col_names].values.tolist()[-1]\n",
    "    return trn_res, tst_res"
   ]
  },
  {
   "cell_type": "code",
   "execution_count": 34,
   "id": "e1626265-be33-4fb3-98e0-b61a9e5d7361",
   "metadata": {},
   "outputs": [],
   "source": [
    "ds_name = \"celebA\"\n",
    "\n",
    "col_names = ['acc_y:notblond_male:0', 'acc_y:notblond_male:1', 'acc_y:blond_male:0', 'acc_y:blond_male:1']\n",
    "\n",
    "data = {}\n",
    "log_path = \"../logs/celebA/erm-resnet50/\"\n",
    "data[\"ERM\"] = np.concatenate(get_res(log_path, col_names))\n",
    "log_path = \"../logs/celebA/iwerm-resnet50/\"\n",
    "data[\"IWERM\"] = np.concatenate(get_res(log_path, col_names))\n",
    "log_path = \"../logs/celebA/erm-dp_resnet50-lr1e-3-dpsgd_1e-5_0.1_1.0_0.0001\"\n",
    "data[\"DP ERM\"] = np.concatenate(get_res(log_path, col_names))\n",
    "log_path = \"../logs/celebA/weightederm-dp_resnet50-dpsgd_1e-5_0.1_1.0_0.0001\"\n",
    "data[\"DP ERM IW\"] = np.concatenate(get_res(log_path, col_names))"
   ]
  },
  {
   "cell_type": "code",
   "execution_count": 55,
   "id": "ddecb7aa-0e3d-4b2a-baf5-13c6a4c82338",
   "metadata": {},
   "outputs": [
    {
     "name": "stdout",
     "output_type": "stream",
     "text": [
      "\\begin{tabular}{llcccc}\n",
      "\\toprule\n",
      "          &      & \\multicolumn{2}{l}{blond} & \\multicolumn{2}{l}{not blond} \\\\\n",
      "          &      & female & male &    female & male \\\\\n",
      "\\midrule\n",
      "\\multirow{2}{*}{ERM} & train &   0.99 & 0.97 &      1.00 & 1.00 \\\\\n",
      "          & test &   0.84 & 0.50 &      0.96 & 0.99 \\\\\n",
      "\\cline{1-6}\n",
      "\\multirow{2}{*}{IWERM} & train &   0.98 & 0.99 &      0.98 & 0.99 \\\\\n",
      "          & test &   0.87 & 0.49 &      0.95 & 0.98 \\\\\n",
      "\\cline{1-6}\n",
      "\\multirow{2}{*}{DP ERM} & train &   0.76 & 0.37 &      0.96 & 0.99 \\\\\n",
      "          & test &   0.71 & 0.25 &      0.98 & 1.00 \\\\\n",
      "\\cline{1-6}\n",
      "\\multirow{2}{*}{DP ERM IW} & train &   0.94 & 0.96 &      0.88 & 0.90 \\\\\n",
      "          & test &   0.92 & 0.85 &      0.91 & 0.92 \\\\\n",
      "\\bottomrule\n",
      "\\end{tabular}\n",
      "\n"
     ]
    }
   ],
   "source": [
    "column_names = [\n",
    "    (\"train\", \"not blond\", \"female\"),\n",
    "    (\"train\", \"not blond\", \"male\"),\n",
    "    (\"train\", \"blond\", \"female\"),\n",
    "    (\"train\", \"blond\", \"male\"),\n",
    "    (\"test\", \"not blond\", \"female\"),\n",
    "    (\"test\", \"not blond\", \"male\"),\n",
    "    (\"test\", \"blond\", \"female\"),\n",
    "    (\"test\", \"blond\", \"male\"),\n",
    "]\n",
    "order = ['ERM', 'IWERM', 'DP ERM', 'DP ERM IW']\n",
    "def key_fn(x):\n",
    "    ret = []\n",
    "    for xi in x:\n",
    "        if xi in order:\n",
    "            ret.append(order.index(xi))\n",
    "        else:\n",
    "            ret.append(0 if xi == \"train\" else 1)\n",
    "    return ret\n",
    "\n",
    "df = pd.DataFrame.from_dict(data).transpose()\n",
    "df.columns = pd.MultiIndex.from_tuples(column_names)\n",
    "df = df.stack(0)\n",
    "df = df.sort_index(axis=0, level=[0, 1], key=key_fn)\n",
    "print(df.to_latex(float_format=\"%.2f\", multirow=True).replace(\"llrrrr\", \"llcccc\").repace(\"{l}\", \"{c}\"))"
   ]
  },
  {
   "cell_type": "code",
   "execution_count": 51,
   "id": "0d68f21b-0af7-412a-95eb-451294ce64c6",
   "metadata": {},
   "outputs": [],
   "source": []
  },
  {
   "cell_type": "code",
   "execution_count": null,
   "id": "6068910a-3a3b-45a3-9046-203141126b4e",
   "metadata": {},
   "outputs": [],
   "source": []
  },
  {
   "cell_type": "code",
   "execution_count": 57,
   "id": "90ec5b87-9d04-4fbc-864e-28508bb71260",
   "metadata": {},
   "outputs": [],
   "source": [
    "ds_name = \"utkface\"\n",
    "\n",
    "col_names = [\n",
    "    'acc_y:male_race:White',\n",
    "    'acc_y:male_race:Black',\n",
    "    'acc_y:male_race:Asian',\n",
    "    'acc_y:male_race:Indian',\n",
    "    'acc_y:male_race:Others',\n",
    "    'acc_y:female_race:White',\n",
    "    'acc_y:female_race:Black',\n",
    "    'acc_y:female_race:Asian',\n",
    "    'acc_y:female_race:Indian',\n",
    "    'acc_y:female_race:Others',\n",
    "]\n",
    "\n",
    "data = {}\n",
    "log_path = \"../logs/utkface/erm-resnet50/\"\n",
    "data[\"ERM\"] = np.concatenate(get_res(log_path, col_names))\n",
    "log_path = \"../logs/utkface/iwerm-resnet50/\"\n",
    "data[\"IWERM\"] = np.concatenate(get_res(log_path, col_names))\n",
    "log_path = \"../logs/utkface/erm-dp_resnet50-lr1e-3-dpsgd_1e-5_0.1_1.0_0.001/\"\n",
    "data[\"DP ERM\"] = np.concatenate(get_res(log_path, col_names))\n",
    "log_path = \"../logs/utkface/weightederm-dp_resnet50-dpsgd_1e-5_0.1_1.0_0.001/\"\n",
    "data[\"DP ERM IW\"] = np.concatenate(get_res(log_path, col_names))"
   ]
  },
  {
   "cell_type": "code",
   "execution_count": 60,
   "id": "6adb35b7-f5e3-4c3e-8127-82520fde00a5",
   "metadata": {},
   "outputs": [
    {
     "name": "stdout",
     "output_type": "stream",
     "text": [
      "\\begin{tabular}{llcccccccccc}\n",
      "\\toprule\n",
      "          &      & \\multicolumn{5}{l}{female} & \\multicolumn{5}{l}{male} \\\\\n",
      "          &      &  Asian & Black & Indian & Others & White & Asian & Black & Indian & Others & White \\\\\n",
      "\\midrule\n",
      "\\multirow{2}{*}{ERM} & train &   1.00 &  1.00 &   1.00 &   0.99 &  1.00 &  1.00 &  1.00 &   1.00 &   0.99 &  1.00 \\\\\n",
      "          & test &   0.82 &  0.85 &   0.89 &   0.84 &  0.89 &  0.87 &  0.96 &   0.93 &   0.93 &  0.95 \\\\\n",
      "\\cline{1-12}\n",
      "\\multirow{2}{*}{IWERM} & train &   1.00 &  1.00 &   1.00 &   0.99 &  1.00 &  1.00 &  1.00 &   1.00 &   0.99 &  1.00 \\\\\n",
      "          & test &   0.86 &  0.89 &   0.91 &   0.86 &  0.91 &  0.87 &  0.95 &   0.93 &   0.89 &  0.93 \\\\\n",
      "\\cline{1-12}\n",
      "\\multirow{2}{*}{DP ERM} & train &   0.87 &  0.89 &   0.94 &   0.90 &  0.90 &  0.86 &  0.96 &   0.92 &   0.85 &  0.91 \\\\\n",
      "          & test &   0.87 &  0.90 &   0.93 &   0.96 &  0.93 &  0.76 &  0.92 &   0.88 &   0.77 &  0.88 \\\\\n",
      "\\cline{1-12}\n",
      "\\multirow{2}{*}{DP ERM IW} & train &   0.87 &  0.90 &   0.93 &   0.95 &  0.88 &  0.89 &  0.95 &   0.92 &   0.85 &  0.89 \\\\\n",
      "          & test &   0.78 &  0.81 &   0.83 &   0.81 &  0.81 &  0.90 &  0.96 &   0.95 &   0.88 &  0.93 \\\\\n",
      "\\bottomrule\n",
      "\\end{tabular}\n",
      "\n"
     ]
    }
   ],
   "source": [
    "column_names = []\n",
    "for i in [\"train\", \"test\"]:\n",
    "    for j in [\"male\", \"female\"]:\n",
    "        for k in [\"White\", \"Black\", \"Asian\", \"Indian\", \"Others\"]:\n",
    "            column_names.append((i, j, k))\n",
    "            \n",
    "order = ['ERM', 'IWERM', 'DP ERM', 'DP ERM IW']\n",
    "def key_fn(x):\n",
    "    ret = []\n",
    "    for xi in x:\n",
    "        if xi in order:\n",
    "            ret.append(order.index(xi))\n",
    "        else:\n",
    "            ret.append(0 if xi == \"train\" else 1)\n",
    "    return ret\n",
    "\n",
    "df = pd.DataFrame.from_dict(data).transpose()\n",
    "df.columns = pd.MultiIndex.from_tuples(column_names)\n",
    "df = df.stack(0)\n",
    "df = df.sort_index(axis=0, level=[0, 1], key=key_fn)\n",
    "print(df.to_latex(float_format=\"%.2f\", multirow=True).replace(\"llrrrrrrrrrr\", \"llccccc|ccccc\").repace(\"{l}\", \"{c}\"))"
   ]
  }
 ],
 "metadata": {
  "kernelspec": {
   "display_name": "Python 3",
   "language": "python",
   "name": "python3"
  },
  "language_info": {
   "codemirror_mode": {
    "name": "ipython",
    "version": 3
   },
   "file_extension": ".py",
   "mimetype": "text/x-python",
   "name": "python",
   "nbconvert_exporter": "python",
   "pygments_lexer": "ipython3",
   "version": "3.8.12"
  }
 },
 "nbformat": 4,
 "nbformat_minor": 5
}
