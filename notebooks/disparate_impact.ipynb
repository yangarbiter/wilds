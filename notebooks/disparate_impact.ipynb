{
 "cells": [
  {
   "cell_type": "code",
   "execution_count": 240,
   "id": "f4adfe02-286e-47f9-b081-76269e36d79d",
   "metadata": {},
   "outputs": [],
   "source": [
    "import sys\n",
    "sys.path.append(\"../\")\n",
    "import wilds\n",
    "from wilds.common.grouper import CombinatorialGrouper\n",
    "\n",
    "import numpy as np\n",
    "import pandas as pd\n",
    "import matplotlib.pyplot as plt\n",
    "import joblib\n",
    "import torch\n",
    "import seaborn as sns\n",
    "from opacus.accountants.rdp import RDPAccountant\n",
    "\n",
    "fontsize = 15"
   ]
  },
  {
   "cell_type": "code",
   "execution_count": 235,
   "id": "6fa9bb58-43bf-477e-8a1f-f287b7a8b2a5",
   "metadata": {},
   "outputs": [],
   "source": [
    "def get_sampling_weights(ds_name):\n",
    "    full_dataset = wilds.get_dataset(\n",
    "        dataset=ds_name,\n",
    "        version=\"1.0\",\n",
    "        root_dir=\"../data\",\n",
    "        download=True,\n",
    "        split_scheme=\"official\")\n",
    "\n",
    "    train_grouper = CombinatorialGrouper(\n",
    "            dataset=full_dataset,\n",
    "            groupby_fields=full_dataset._metadata_fields)\n",
    "\n",
    "    trn_dset = full_dataset.get_subset(\n",
    "                \"train\",\n",
    "                train_grouper=train_grouper,\n",
    "                frac=1.0,\n",
    "                subsample_to_minority=False)\n",
    "\n",
    "    groups, group_counts = train_grouper.metadata_to_group(\n",
    "                    trn_dset.metadata_array,\n",
    "                    return_counts=True)\n",
    "    group_weights = 1 / group_counts\n",
    "    weights = group_weights[groups]\n",
    "    weights = weights / weights.sum() * len(trn_dset)\n",
    "    return weights\n",
    "    \n",
    "def get_privacy_spent(sigma, epochs, n_iters, sample_rate):\n",
    "    accountant = RDPAccountant()\n",
    "    for _ in range(epochs):\n",
    "        for _ in range(n_iters):\n",
    "            accountant.step(noise_multiplier=sigma, sample_rate=sample_rate)\n",
    "    return accountant.get_privacy_spent(delta=1e-5, alphas=alphas)\n",
    "\n",
    "def get_sigma_epsilon(ds_name, epochs, sample_rate, sigmas, weighted_sampling=True):\n",
    "    alphas = [1 + x / 2000.0 for x in range(1, 20000)] + list(range(12, 64))\n",
    "\n",
    "    if weighted_sampling:\n",
    "        weight = get_sampling_weights(ds_name).max().item()\n",
    "    else:\n",
    "        weight = 1.0\n",
    "\n",
    "    data = {}\n",
    "    for sigma in sigmas:\n",
    "        epsilon, alpha = get_privacy_spent(sigma, epochs, int(1 / sample_rate), sample_rate * weight)\n",
    "        data[sigma] = epsilon\n",
    "    return data"
   ]
  },
  {
   "cell_type": "code",
   "execution_count": 236,
   "id": "f518cd2e-02eb-4e17-880f-fabd1c8e7a92",
   "metadata": {},
   "outputs": [],
   "source": [
    "def get_res(log_path, col_names):\n",
    "    df = pd.read_csv(f\"{log_path}/train_eval.csv\")\n",
    "    trn_res = df[col_names].values.tolist()[-1]\n",
    "    df = pd.read_csv(f\"{log_path}/test_eval.csv\")\n",
    "    tst_res = df[col_names].values.tolist()[-1]\n",
    "    return trn_res, tst_res"
   ]
  },
  {
   "cell_type": "code",
   "execution_count": 249,
   "id": "e1626265-be33-4fb3-98e0-b61a9e5d7361",
   "metadata": {},
   "outputs": [],
   "source": [
    "ds_name = \"celebA\"\n",
    "\n",
    "col_names = ['acc_y:notblond_male:0', 'acc_y:notblond_male:1', 'acc_y:blond_male:0', 'acc_y:blond_male:1']\n",
    "\n",
    "data = {}\n",
    "log_path = \"../logs/celebA/erm-resnet50\"\n",
    "data[\"ERM\"] = np.concatenate(get_res(log_path, col_names))\n",
    "log_path = \"../logs/celebA/iwerm-resnet50\"\n",
    "data[\"IWERM\"] = np.concatenate(get_res(log_path, col_names))\n",
    "#log_path = \"../logs/celebA/groupDRO\"\n",
    "#data[\"gDRO\"] = np.concatenate(get_res(log_path, col_names))\n",
    "log_path = \"../logs/celebA/erm-dp_resnet50-lr1e-3-dpsgd_1e-5_0.1_1.0_0.0001\"\n",
    "data[\"DP ERM\"] = np.concatenate(get_res(log_path, col_names))\n",
    "log_path = \"../logs/celebA/weightederm-dp_resnet50-dpsgd_1e-5_0.1_1.0_0.0001\"\n",
    "data[\"DP ERM IW\"] = np.concatenate(get_res(log_path, col_names))"
   ]
  },
  {
   "cell_type": "code",
   "execution_count": 268,
   "id": "c4ff6c18-cacd-44fd-9150-28cd8b5e753e",
   "metadata": {},
   "outputs": [],
   "source": [
    "order = ['ERM', 'IWERM', 'DP ERM', 'DP ERM IW']\n",
    "method = [(False, False), (True, False), (False, True), (True, True)]\n",
    "\n",
    "data2 = {}\n",
    "for j, k in enumerate(order):\n",
    "    for i in [3]:\n",
    "        hair = \"not blond\" if i < 2 else \"blond\"\n",
    "        gender = \"female\" if (i % 2 == 0) else \"male\"\n",
    "        \n",
    "        data2[2*j] = (data[k][i], \"train\", hair, gender, method[j][0], method[j][1])\n",
    "        data2[2*j+1] = (data[k][i+4], \"test\", hair, gender, method[j][0], method[j][1])\n",
    "        \n",
    "df = pd.DataFrame.from_dict(data2, orient=\"index\", columns=[\"acc.\", \"split\", \"hair\", \"gender\", \"IW\", \"DP\"])"
   ]
  },
  {
   "cell_type": "code",
   "execution_count": 281,
   "id": "f9eb1e12-11dc-40bb-bb03-24d29e778b9e",
   "metadata": {},
   "outputs": [
    {
     "data": {
      "image/png": "[encoded data removed]",
      "text/plain": [
       "<Figure size 432x432 with 4 Axes>"
      ]
     },
     "metadata": {},
     "output_type": "display_data"
    }
   ],
   "source": [
    "\n",
    "sns.set(font_scale=1.25)\n",
    "g = sns.FacetGrid(df, col=\"IW\", row=\"DP\", margin_titles=True)\n",
    "g.map_dataframe(sns.barplot, x=\"split\", y=\"acc.\")\n",
    "#g.set_titles(fontsize=fontsize)\n",
    "g.set_xlabels(\"\")\n",
    "g.tight_layout()\n",
    "plt.savefig(\"./figs/celebA_male_blond.png\")"
   ]
  },
  {
   "cell_type": "code",
   "execution_count": 238,
   "id": "ddecb7aa-0e3d-4b2a-baf5-13c6a4c82338",
   "metadata": {},
   "outputs": [
    {
     "name": "stdout",
     "output_type": "stream",
     "text": [
      "\\begin{tabular}{llcccc}\n",
      "\\toprule\n",
      "          &      & \\multicolumn{2}{c}{blond} & \\multicolumn{2}{c}{not blond} \\\\\n",
      "          &      & female & male &    female & male \\\\\n",
      "\\midrule\n",
      "\\multirow{2}{*}{ERM} & train &   1.00 & 0.99 &      1.00 & 1.00 \\\\\n",
      "          & test &   0.80 & 0.42 &      0.97 & 1.00 \\\\\n",
      "\\cline{1-6}\n",
      "\\multirow{2}{*}{IWERM} & train &   0.98 & 0.99 &      0.98 & 0.99 \\\\\n",
      "          & test &   0.87 & 0.49 &      0.95 & 0.98 \\\\\n",
      "\\cline{1-6}\n",
      "\\multirow{2}{*}{DP ERM} & train &   0.80 & 0.41 &      0.96 & 0.99 \\\\\n",
      "          & test &   0.74 & 0.29 &      0.98 & 1.00 \\\\\n",
      "\\cline{1-6}\n",
      "\\multirow{2}{*}{DP ERM IW} & train &   0.94 & 0.96 &      0.88 & 0.90 \\\\\n",
      "          & test &   0.92 & 0.85 &      0.91 & 0.92 \\\\\n",
      "\\bottomrule\n",
      "\\end{tabular}\n",
      "\n"
     ]
    }
   ],
   "source": [
    "column_names = [\n",
    "    (\"train\", \"not blond\", \"female\"),\n",
    "    (\"train\", \"not blond\", \"male\"),\n",
    "    (\"train\", \"blond\", \"female\"),\n",
    "    (\"train\", \"blond\", \"male\"),\n",
    "    (\"test\", \"not blond\", \"female\"),\n",
    "    (\"test\", \"not blond\", \"male\"),\n",
    "    (\"test\", \"blond\", \"female\"),\n",
    "    (\"test\", \"blond\", \"male\"),\n",
    "]\n",
    "order = ['ERM', 'IWERM', 'gDRO', 'DP ERM', 'DP ERM IW']\n",
    "def key_fn(x):\n",
    "    ret = []\n",
    "    for xi in x:\n",
    "        if xi in order:\n",
    "            ret.append(order.index(xi))\n",
    "        else:\n",
    "            ret.append(0 if xi == \"train\" else 1)\n",
    "    return ret\n",
    "\n",
    "df = pd.DataFrame.from_dict(data).transpose()\n",
    "df.columns = pd.MultiIndex.from_tuples(column_names)\n",
    "df = df.stack(0)\n",
    "df = df.sort_index(axis=0, level=[0, 1], key=key_fn)\n",
    "print(df.to_latex(float_format=\"%.2f\", multirow=True).replace(\"llrrrr\", \"llcccc\").replace(\"{l}\", \"{c}\"))"
   ]
  },
  {
   "cell_type": "code",
   "execution_count": 243,
   "id": "b37589e4-09b4-4d1f-9a66-62a9046d3b4b",
   "metadata": {},
   "outputs": [
    {
     "data": {
      "text/html": [
       "<div>\n",
       "<style scoped>\n",
       "    .dataframe tbody tr th:only-of-type {\n",
       "        vertical-align: middle;\n",
       "    }\n",
       "\n",
       "    .dataframe tbody tr th {\n",
       "        vertical-align: top;\n",
       "    }\n",
       "\n",
       "    .dataframe thead th {\n",
       "        text-align: right;\n",
       "    }\n",
       "</style>\n",
       "<table border=\"1\" class=\"dataframe\">\n",
       "  <thead>\n",
       "    <tr style=\"text-align: right;\">\n",
       "      <th></th>\n",
       "      <th>total_bill</th>\n",
       "      <th>tip</th>\n",
       "      <th>sex</th>\n",
       "      <th>smoker</th>\n",
       "      <th>day</th>\n",
       "      <th>time</th>\n",
       "      <th>size</th>\n",
       "    </tr>\n",
       "  </thead>\n",
       "  <tbody>\n",
       "    <tr>\n",
       "      <th>0</th>\n",
       "      <td>16.99</td>\n",
       "      <td>1.01</td>\n",
       "      <td>Female</td>\n",
       "      <td>No</td>\n",
       "      <td>Sun</td>\n",
       "      <td>Dinner</td>\n",
       "      <td>2</td>\n",
       "    </tr>\n",
       "    <tr>\n",
       "      <th>1</th>\n",
       "      <td>10.34</td>\n",
       "      <td>1.66</td>\n",
       "      <td>Male</td>\n",
       "      <td>No</td>\n",
       "      <td>Sun</td>\n",
       "      <td>Dinner</td>\n",
       "      <td>3</td>\n",
       "    </tr>\n",
       "    <tr>\n",
       "      <th>2</th>\n",
       "      <td>21.01</td>\n",
       "      <td>3.50</td>\n",
       "      <td>Male</td>\n",
       "      <td>No</td>\n",
       "      <td>Sun</td>\n",
       "      <td>Dinner</td>\n",
       "      <td>3</td>\n",
       "    </tr>\n",
       "    <tr>\n",
       "      <th>3</th>\n",
       "      <td>23.68</td>\n",
       "      <td>3.31</td>\n",
       "      <td>Male</td>\n",
       "      <td>No</td>\n",
       "      <td>Sun</td>\n",
       "      <td>Dinner</td>\n",
       "      <td>2</td>\n",
       "    </tr>\n",
       "    <tr>\n",
       "      <th>4</th>\n",
       "      <td>24.59</td>\n",
       "      <td>3.61</td>\n",
       "      <td>Female</td>\n",
       "      <td>No</td>\n",
       "      <td>Sun</td>\n",
       "      <td>Dinner</td>\n",
       "      <td>4</td>\n",
       "    </tr>\n",
       "    <tr>\n",
       "      <th>...</th>\n",
       "      <td>...</td>\n",
       "      <td>...</td>\n",
       "      <td>...</td>\n",
       "      <td>...</td>\n",
       "      <td>...</td>\n",
       "      <td>...</td>\n",
       "      <td>...</td>\n",
       "    </tr>\n",
       "    <tr>\n",
       "      <th>239</th>\n",
       "      <td>29.03</td>\n",
       "      <td>5.92</td>\n",
       "      <td>Male</td>\n",
       "      <td>No</td>\n",
       "      <td>Sat</td>\n",
       "      <td>Dinner</td>\n",
       "      <td>3</td>\n",
       "    </tr>\n",
       "    <tr>\n",
       "      <th>240</th>\n",
       "      <td>27.18</td>\n",
       "      <td>2.00</td>\n",
       "      <td>Female</td>\n",
       "      <td>Yes</td>\n",
       "      <td>Sat</td>\n",
       "      <td>Dinner</td>\n",
       "      <td>2</td>\n",
       "    </tr>\n",
       "    <tr>\n",
       "      <th>241</th>\n",
       "      <td>22.67</td>\n",
       "      <td>2.00</td>\n",
       "      <td>Male</td>\n",
       "      <td>Yes</td>\n",
       "      <td>Sat</td>\n",
       "      <td>Dinner</td>\n",
       "      <td>2</td>\n",
       "    </tr>\n",
       "    <tr>\n",
       "      <th>242</th>\n",
       "      <td>17.82</td>\n",
       "      <td>1.75</td>\n",
       "      <td>Male</td>\n",
       "      <td>No</td>\n",
       "      <td>Sat</td>\n",
       "      <td>Dinner</td>\n",
       "      <td>2</td>\n",
       "    </tr>\n",
       "    <tr>\n",
       "      <th>243</th>\n",
       "      <td>18.78</td>\n",
       "      <td>3.00</td>\n",
       "      <td>Female</td>\n",
       "      <td>No</td>\n",
       "      <td>Thur</td>\n",
       "      <td>Dinner</td>\n",
       "      <td>2</td>\n",
       "    </tr>\n",
       "  </tbody>\n",
       "</table>\n",
       "<p>244 rows × 7 columns</p>\n",
       "</div>"
      ],
      "text/plain": [
       "     total_bill   tip     sex smoker   day    time  size\n",
       "0         16.99  1.01  Female     No   Sun  Dinner     2\n",
       "1         10.34  1.66    Male     No   Sun  Dinner     3\n",
       "2         21.01  3.50    Male     No   Sun  Dinner     3\n",
       "3         23.68  3.31    Male     No   Sun  Dinner     2\n",
       "4         24.59  3.61  Female     No   Sun  Dinner     4\n",
       "..          ...   ...     ...    ...   ...     ...   ...\n",
       "239       29.03  5.92    Male     No   Sat  Dinner     3\n",
       "240       27.18  2.00  Female    Yes   Sat  Dinner     2\n",
       "241       22.67  2.00    Male    Yes   Sat  Dinner     2\n",
       "242       17.82  1.75    Male     No   Sat  Dinner     2\n",
       "243       18.78  3.00  Female     No  Thur  Dinner     2\n",
       "\n",
       "[244 rows x 7 columns]"
      ]
     },
     "execution_count": 243,
     "metadata": {},
     "output_type": "execute_result"
    }
   ],
   "source": [
    "tips = sns.load_dataset(\"tips\")\n",
    "tips"
   ]
  },
  {
   "cell_type": "code",
   "execution_count": null,
   "id": "a8d0694d-b7e8-4b65-bcd1-28b2a0e39a59",
   "metadata": {},
   "outputs": [],
   "source": []
  },
  {
   "cell_type": "code",
   "execution_count": 213,
   "id": "3bf1df92-6585-4446-be44-538845c3557b",
   "metadata": {},
   "outputs": [],
   "source": [
    "def get_data(sigmas, log_paths, col_names):\n",
    "    results = {}\n",
    "    for sigma, log_path in zip(sigmas, log_paths):\n",
    "        results.setdefault(\"sigma\", []).append(sigma)\n",
    "\n",
    "        df = pd.read_csv(f\"../logs/{ds_name}/{log_path}/train_eval.csv\")\n",
    "        train_res = df[[\"epoch\", \"acc_avg\", \"acc_wg\"] + col_names].values\n",
    "        results.setdefault(\"trn acc\", []).append(train_res[-1][1])\n",
    "        results.setdefault(\"trn wg acc\", []).append(train_res[-1][2])\n",
    "        disparity = np.max(train_res[-1][4:]) - np.min(train_res[-1][4:])\n",
    "        results.setdefault(\"trn disparity\", []).append(disparity)\n",
    "\n",
    "        df = pd.read_csv(f\"../logs/{ds_name}/{log_path}/test_eval.csv\")\n",
    "        res = df[[\"epoch\", \"acc_avg\", \"acc_wg\", \"epsilon\"] + col_names].values.tolist()\n",
    "        results.setdefault(\"tst acc\", []).append(res[-1][1])\n",
    "        results.setdefault(\"tst wg acc\", []).append(res[-1][2])\n",
    "        results.setdefault(\"epsilon\", []).append(res[-1][3])\n",
    "        disparity = np.max(res[-1][4:]) - np.min(res[-1][4:])\n",
    "        results.setdefault(\"tst disparity\", []).append(disparity)\n",
    "\n",
    "    for k, v in results.items():\n",
    "        results[k] = np.array(v)\n",
    "    return results"
   ]
  },
  {
   "cell_type": "code",
   "execution_count": 214,
   "id": "0d68f21b-0af7-412a-95eb-451294ce64c6",
   "metadata": {},
   "outputs": [],
   "source": [
    "ds_name = \"celebA\"\n",
    "\n",
    "col_names = ['acc_y:notblond_male:0', 'acc_y:notblond_male:1', 'acc_y:blond_male:0', 'acc_y:blond_male:1']\n",
    "\n",
    "sigmas = [0.0001, 0.001, 0.01, 0.1, 1.0, 10.0]\n",
    "log_paths = []\n",
    "for sigma in sigmas:\n",
    "    log_paths.append(f\"erm-dp_resnet50-lr1e-3-dpsgd_1e-5_{sigma}_1.0_0.0001\")\n",
    "    \n",
    "data = get_data(sigmas, log_paths, col_names)\n",
    "df1 = pd.DataFrame.from_dict(data)\n",
    "\n",
    "sigmas = [0.001, 0.01, 0.1, 1.0]\n",
    "log_paths = []\n",
    "for sigma in sigmas:\n",
    "    log_paths.append(f\"weightederm-dp_resnet50-dpsgd_1e-5_{sigma}_1.0_0.0001\")\n",
    "data = get_data(sigmas, log_paths, col_names)\n",
    "df2 = pd.DataFrame.from_dict(data)"
   ]
  },
  {
   "cell_type": "code",
   "execution_count": 217,
   "id": "fe1d0e9f-e41c-4db5-999b-4c30060eeeb3",
   "metadata": {},
   "outputs": [
    {
     "data": {
      "image/png": "[encoded data removed]",
      "text/plain": [
       "<Figure size 432x288 with 1 Axes>"
      ]
     },
     "metadata": {
      "needs_background": "light"
     },
     "output_type": "display_data"
    }
   ],
   "source": [
    "ds_name = \"celebA\"\n",
    "epochs = 50\n",
    "sample_rate = 0.0001\n",
    "\n",
    "df = pd.merge(df1[['sigma', 'tst disparity']], df2[['sigma', 'tst disparity']], on=\"sigma\")\n",
    "\n",
    "eps = get_sigma_epsilon(ds_name, epochs, sample_rate, df['sigma'].tolist(), False)\n",
    "eps = [eps[s] for s in df['sigma'].tolist()]\n",
    "weps = get_sigma_epsilon(ds_name, epochs, sample_rate, df['sigma'].tolist(), True)\n",
    "weps = [weps[s] for s in df['sigma'].tolist()]\n",
    "\n",
    "plt.plot(eps, df['tst disparity_x'].tolist(), label=\"DP\")\n",
    "plt.plot(weps, df['tst disparity_y'].tolist(), label=\"DP IW\")\n",
    "\n",
    "plt.xticks(fontsize=fontsize)\n",
    "plt.yticks(fontsize=fontsize)\n",
    "plt.xscale(\"log\")\n",
    "plt.xlabel(\"Epsilon\", fontsize=fontsize)\n",
    "plt.ylabel(\"Disparity\", fontsize=fontsize)\n",
    "plt.legend(fontsize=fontsize)\n",
    "plt.tight_layout()\n",
    "plt.savefig(f\"./figs/disparity_{ds_name}.png\")\n",
    "plt.show()"
   ]
  },
  {
   "cell_type": "code",
   "execution_count": null,
   "id": "f2246718-a469-4cfb-a1d2-b32f88d98414",
   "metadata": {},
   "outputs": [],
   "source": []
  },
  {
   "cell_type": "code",
   "execution_count": null,
   "id": "6068910a-3a3b-45a3-9046-203141126b4e",
   "metadata": {},
   "outputs": [],
   "source": []
  },
  {
   "cell_type": "code",
   "execution_count": 57,
   "id": "90ec5b87-9d04-4fbc-864e-28508bb71260",
   "metadata": {},
   "outputs": [],
   "source": [
    "ds_name = \"utkface\"\n",
    "\n",
    "col_names = [\n",
    "    'acc_y:male_race:White',\n",
    "    'acc_y:male_race:Black',\n",
    "    'acc_y:male_race:Asian',\n",
    "    'acc_y:male_race:Indian',\n",
    "    'acc_y:male_race:Others',\n",
    "    'acc_y:female_race:White',\n",
    "    'acc_y:female_race:Black',\n",
    "    'acc_y:female_race:Asian',\n",
    "    'acc_y:female_race:Indian',\n",
    "    'acc_y:female_race:Others',\n",
    "]\n",
    "\n",
    "data = {}\n",
    "log_path = \"../logs/utkface/erm-resnet50/\"\n",
    "data[\"ERM\"] = np.concatenate(get_res(log_path, col_names))\n",
    "log_path = \"../logs/utkface/iwerm-resnet50/\"\n",
    "data[\"IWERM\"] = np.concatenate(get_res(log_path, col_names))\n",
    "log_path = \"../logs/utkface/erm-dp_resnet50-lr1e-3-dpsgd_1e-5_0.1_1.0_0.001/\"\n",
    "data[\"DP ERM\"] = np.concatenate(get_res(log_path, col_names))\n",
    "log_path = \"../logs/utkface/weightederm-dp_resnet50-dpsgd_1e-5_0.1_1.0_0.001/\"\n",
    "data[\"DP ERM IW\"] = np.concatenate(get_res(log_path, col_names))"
   ]
  },
  {
   "cell_type": "code",
   "execution_count": 60,
   "id": "6adb35b7-f5e3-4c3e-8127-82520fde00a5",
   "metadata": {},
   "outputs": [
    {
     "name": "stdout",
     "output_type": "stream",
     "text": [
      "\\begin{tabular}{llcccccccccc}\n",
      "\\toprule\n",
      "          &      & \\multicolumn{5}{l}{female} & \\multicolumn{5}{l}{male} \\\\\n",
      "          &      &  Asian & Black & Indian & Others & White & Asian & Black & Indian & Others & White \\\\\n",
      "\\midrule\n",
      "\\multirow{2}{*}{ERM} & train &   1.00 &  1.00 &   1.00 &   0.99 &  1.00 &  1.00 &  1.00 &   1.00 &   0.99 &  1.00 \\\\\n",
      "          & test &   0.82 &  0.85 &   0.89 &   0.84 &  0.89 &  0.87 &  0.96 &   0.93 &   0.93 &  0.95 \\\\\n",
      "\\cline{1-12}\n",
      "\\multirow{2}{*}{IWERM} & train &   1.00 &  1.00 &   1.00 &   0.99 &  1.00 &  1.00 &  1.00 &   1.00 &   0.99 &  1.00 \\\\\n",
      "          & test &   0.86 &  0.89 &   0.91 &   0.86 &  0.91 &  0.87 &  0.95 &   0.93 &   0.89 &  0.93 \\\\\n",
      "\\cline{1-12}\n",
      "\\multirow{2}{*}{DP ERM} & train &   0.87 &  0.89 &   0.94 &   0.90 &  0.90 &  0.86 &  0.96 &   0.92 &   0.85 &  0.91 \\\\\n",
      "          & test &   0.87 &  0.90 &   0.93 &   0.96 &  0.93 &  0.76 &  0.92 &   0.88 &   0.77 &  0.88 \\\\\n",
      "\\cline{1-12}\n",
      "\\multirow{2}{*}{DP ERM IW} & train &   0.87 &  0.90 &   0.93 &   0.95 &  0.88 &  0.89 &  0.95 &   0.92 &   0.85 &  0.89 \\\\\n",
      "          & test &   0.78 &  0.81 &   0.83 &   0.81 &  0.81 &  0.90 &  0.96 &   0.95 &   0.88 &  0.93 \\\\\n",
      "\\bottomrule\n",
      "\\end{tabular}\n",
      "\n"
     ]
    }
   ],
   "source": [
    "column_names = []\n",
    "for i in [\"train\", \"test\"]:\n",
    "    for j in [\"male\", \"female\"]:\n",
    "        for k in [\"White\", \"Black\", \"Asian\", \"Indian\", \"Others\"]:\n",
    "            column_names.append((i, j, k))\n",
    "            \n",
    "order = ['ERM', 'IWERM', 'DP ERM', 'DP ERM IW']\n",
    "def key_fn(x):\n",
    "    ret = []\n",
    "    for xi in x:\n",
    "        if xi in order:\n",
    "            ret.append(order.index(xi))\n",
    "        else:\n",
    "            ret.append(0 if xi == \"train\" else 1)\n",
    "    return ret\n",
    "\n",
    "df = pd.DataFrame.from_dict(data).transpose()\n",
    "df.columns = pd.MultiIndex.from_tuples(column_names)\n",
    "df = df.stack(0)\n",
    "df = df.sort_index(axis=0, level=[0, 1], key=key_fn)\n",
    "print(df.to_latex(float_format=\"%.2f\", multirow=True).replace(\"llrrrrrrrrrr\", \"llccccc|ccccc\").repace(\"{l}\", \"{c}\"))"
   ]
  },
  {
   "cell_type": "code",
   "execution_count": 291,
   "id": "cdcf3ac5-7ee1-4ae5-9a57-fce55e80e482",
   "metadata": {},
   "outputs": [],
   "source": [
    "ds_name = \"utkface\"\n",
    "\n",
    "col_names = [\n",
    "    'acc_y:male_race:White',\n",
    "    'acc_y:male_race:Black',\n",
    "    'acc_y:male_race:Asian',\n",
    "    'acc_y:male_race:Indian',\n",
    "    'acc_y:male_race:Others',\n",
    "    'acc_y:female_race:White',\n",
    "    'acc_y:female_race:Black',\n",
    "    'acc_y:female_race:Asian',\n",
    "    'acc_y:female_race:Indian',\n",
    "    'acc_y:female_race:Others',\n",
    "]\n",
    "\n",
    "sigmas = [0.0001, 0.001, 0.01, 0.1, 1.0, 10.0]\n",
    "log_paths = []\n",
    "for sigma in sigmas:\n",
    "    log_paths.append(f\"erm-dp_resnet50-lr1e-3-dpsgd_1e-5_{sigma}_1.0_0.001\")\n",
    "data = get_data(sigmas, log_paths, col_names)\n",
    "df1 = pd.DataFrame.from_dict(data)\n",
    "\n",
    "sigmas = [0.0001, 0.001, 0.01, 0.1, 1.0, 10.0]\n",
    "log_paths = []\n",
    "for sigma in sigmas:\n",
    "    log_paths.append(f\"weightederm-dp_resnet50-lr1e-3-dpsgd_1e-5_{sigma}_1.0_0.001\")\n",
    "data = get_data(sigmas, log_paths, col_names)\n",
    "df2 = pd.DataFrame.from_dict(data)"
   ]
  },
  {
   "cell_type": "code",
   "execution_count": 292,
   "id": "2101112d-b183-44b4-83c9-4771ba261f11",
   "metadata": {},
   "outputs": [
    {
     "name": "stdout",
     "output_type": "stream",
     "text": [
      "Downloading dataset to ../data/UTKFace_v1.0...\n",
      "You can also download the dataset manually at https://wilds.stanford.edu/downloads.\n",
      "Downloading  to ../data/UTKFace_v1.0/archive.tar.gz\n"
     ]
    },
    {
     "name": "stderr",
     "output_type": "stream",
     "text": [
      "/home/arbiter/.pyenv/versions/3.8.12/envs/spurious_ml/lib/python3.8/site-packages/opacus/accountants/analysis/rdp.py:320: UserWarning: Optimal order is the largest alpha. Please consider expanding the range of alphas to get a tighter privacy bound.\n",
      "  warnings.warn(\n"
     ]
    },
    {
     "data": {
      "application/vnd.jupyter.widget-view+json": {
       "model_id": "65c29569f7e84519b31316be0c240415",
       "version_major": 2,
       "version_minor": 0
      },
      "text/plain": [
       "0Byte [00:00, ?Byte/s]"
      ]
     },
     "metadata": {},
     "output_type": "display_data"
    },
    {
     "name": "stdout",
     "output_type": "stream",
     "text": [
      "\n",
      "../data/UTKFace_v1.0/archive.tar.gz may be corrupted. Please try deleting it and rerunning this command.\n",
      "\n",
      "Exception:  unknown url type: ''\n",
      "problem with:  ../data/UTKFace_v1.0/39_1_20170116174525125.jpg.chip.jpg\n",
      "problem with:  ../data/UTKFace_v1.0/61_1_20170109142408075.jpg.chip.jpg\n",
      "problem with:  ../data/UTKFace_v1.0/61_1_20170109150557335.jpg.chip.jpg\n"
     ]
    },
    {
     "data": {
      "image/png": "[encoded data removed]",
      "text/plain": [
       "<Figure size 432x288 with 1 Axes>"
      ]
     },
     "metadata": {},
     "output_type": "display_data"
    }
   ],
   "source": [
    "ds_name = \"utkface\"\n",
    "epochs = 100\n",
    "sample_rate = 0.001\n",
    "\n",
    "df = pd.merge(df1[['sigma', 'tst disparity']], df2[['sigma', 'tst disparity']], on=\"sigma\")\n",
    "\n",
    "eps = get_sigma_epsilon(ds_name, epochs, sample_rate, df['sigma'].tolist(), False)\n",
    "eps = [eps[s] for s in df['sigma'].tolist()]\n",
    "weps = get_sigma_epsilon(ds_name, epochs, sample_rate, df['sigma'].tolist(), True)\n",
    "weps = [weps[s] for s in df['sigma'].tolist()]\n",
    "\n",
    "plt.plot(eps, df['tst disparity_x'].tolist(), label=\"DP\")\n",
    "plt.plot(weps, df['tst disparity_y'].tolist(), label=\"DP IW\")\n",
    "\n",
    "plt.xticks(fontsize=fontsize)\n",
    "plt.yticks(fontsize=fontsize)\n",
    "plt.xscale(\"log\")\n",
    "plt.xlabel(\"Epsilon\", fontsize=fontsize)\n",
    "plt.ylabel(\"Disparity\", fontsize=fontsize)\n",
    "plt.legend(fontsize=fontsize)\n",
    "plt.tight_layout()\n",
    "plt.savefig(f\"./figs/disparity_{ds_name}.png\")\n",
    "plt.show()"
   ]
  },
  {
   "cell_type": "code",
   "execution_count": 148,
   "id": "4e0dbab8-14a9-4664-bf48-77cc0bd8c277",
   "metadata": {},
   "outputs": [
    {
     "name": "stdout",
     "output_type": "stream",
     "text": [
      "Downloading dataset to ../data/UTKFace_v1.0...\n",
      "You can also download the dataset manually at https://wilds.stanford.edu/downloads.\n",
      "Downloading  to ../data/UTKFace_v1.0/archive.tar.gz\n"
     ]
    },
    {
     "data": {
      "application/vnd.jupyter.widget-view+json": {
       "model_id": "fb1d30fc68474c80ba34d98e3aada67f",
       "version_major": 2,
       "version_minor": 0
      },
      "text/plain": [
       "0Byte [00:00, ?Byte/s]"
      ]
     },
     "metadata": {},
     "output_type": "display_data"
    },
    {
     "name": "stdout",
     "output_type": "stream",
     "text": [
      "\n",
      "../data/UTKFace_v1.0/archive.tar.gz may be corrupted. Please try deleting it and rerunning this command.\n",
      "\n",
      "Exception:  unknown url type: ''\n",
      "problem with:  ../data/UTKFace_v1.0/39_1_20170116174525125.jpg.chip.jpg\n",
      "problem with:  ../data/UTKFace_v1.0/61_1_20170109142408075.jpg.chip.jpg\n",
      "problem with:  ../data/UTKFace_v1.0/61_1_20170109150557335.jpg.chip.jpg\n"
     ]
    }
   ],
   "source": [
    "ds_name = \"utkface\"\n"
   ]
  },
  {
   "cell_type": "code",
   "execution_count": 159,
   "id": "f2203b0c-e188-4e92-a8c1-3c584cdd9a33",
   "metadata": {},
   "outputs": [],
   "source": []
  },
  {
   "cell_type": "code",
   "execution_count": 189,
   "id": "ccc0a8eb-33d2-4436-a4c5-2a60cc18e638",
   "metadata": {},
   "outputs": [
    {
     "name": "stdout",
     "output_type": "stream",
     "text": [
      "Downloading dataset to ../data/UTKFace_v1.0...\n",
      "You can also download the dataset manually at https://wilds.stanford.edu/downloads.\n",
      "Downloading  to ../data/UTKFace_v1.0/archive.tar.gz\n"
     ]
    },
    {
     "data": {
      "application/vnd.jupyter.widget-view+json": {
       "model_id": "dac2a9678d814f94a2d4bf8531242e27",
       "version_major": 2,
       "version_minor": 0
      },
      "text/plain": [
       "0Byte [00:00, ?Byte/s]"
      ]
     },
     "metadata": {},
     "output_type": "display_data"
    },
    {
     "name": "stdout",
     "output_type": "stream",
     "text": [
      "\n",
      "../data/UTKFace_v1.0/archive.tar.gz may be corrupted. Please try deleting it and rerunning this command.\n",
      "\n",
      "Exception:  unknown url type: ''\n",
      "problem with:  ../data/UTKFace_v1.0/39_1_20170116174525125.jpg.chip.jpg\n",
      "problem with:  ../data/UTKFace_v1.0/61_1_20170109142408075.jpg.chip.jpg\n",
      "problem with:  ../data/UTKFace_v1.0/61_1_20170109150557335.jpg.chip.jpg\n"
     ]
    },
    {
     "name": "stderr",
     "output_type": "stream",
     "text": [
      "/home/arbiter/.pyenv/versions/3.8.12/envs/spurious_ml/lib/python3.8/site-packages/opacus/accountants/analysis/rdp.py:320: UserWarning: Optimal order is the smallest alpha. Please consider expanding the range of alphas to get a tighter privacy bound.\n",
      "  warnings.warn(\n"
     ]
    }
   ],
   "source": []
  },
  {
   "cell_type": "markdown",
   "id": "f5ede03e-47c4-48a0-b1d1-21a9cfa2abf7",
   "metadata": {},
   "source": [
    "# iNaturalist"
   ]
  },
  {
   "cell_type": "code",
   "execution_count": 239,
   "id": "c6734a66-4942-4c21-a264-9149010b9483",
   "metadata": {},
   "outputs": [
    {
     "name": "stdout",
     "output_type": "stream",
     "text": [
      "0.0001\n",
      "0.001\n",
      "0.01\n",
      "1.0\n"
     ]
    }
   ],
   "source": [
    "ds_name = \"inaturalist\"\n",
    "\n",
    "col_names = [\n",
    "    'acc_y:Actinopterygii',\n",
    "    'acc_y:Amphibia',\n",
    "    'acc_y:Animalia',\n",
    "    'acc_y:Arachnida',\n",
    "    'acc_y:Aves', 'acc_y:Chromista',\n",
    "    'acc_y:Fungi', 'acc_y:Insecta',\n",
    "    'acc_y:Mammalia', 'acc_y:Mollusca',\n",
    "    'acc_y:Plantae',\n",
    "    'acc_y:Protozoa',\n",
    "    'acc_y:Reptilia',\n",
    "]\n",
    "\n",
    "sigmas = [0.0001, 0.001, 0.01, 0.1, 1.0]\n",
    "log_paths = []\n",
    "for sigma in sigmas:\n",
    "    log_paths.append(f\"erm-dp_resnet18-lr1e-3-dpsgd_1e-5_{sigma}_1.0_0.0001\")\n",
    "data = get_data(sigmas, log_paths, col_names)\n",
    "df1 = pd.DataFrame.from_dict(data)\n",
    "\n",
    "sigmas = [0.0001, 0.001, 0.01, 1.0]\n",
    "log_paths = []\n",
    "for sigma in sigmas:\n",
    "    print(sigma)\n",
    "    log_paths.append(f\"weightederm-dp_resnet18-dpsgd_1e-5_{sigma}_1.0_0.0001\")\n",
    "data = get_data(sigmas, log_paths, col_names)\n",
    "df2 = pd.DataFrame.from_dict(data)"
   ]
  },
  {
   "cell_type": "code",
   "execution_count": 233,
   "id": "29f40d2d-d644-4f26-92f9-16cf4749fb1d",
   "metadata": {},
   "outputs": [
    {
     "name": "stderr",
     "output_type": "stream",
     "text": [
      "/home/arbiter/.pyenv/versions/3.8.12/envs/spurious_ml/lib/python3.8/site-packages/opacus/accountants/analysis/rdp.py:320: UserWarning: Optimal order is the smallest alpha. Please consider expanding the range of alphas to get a tighter privacy bound.\n",
      "  warnings.warn(\n"
     ]
    },
    {
     "name": "stdout",
     "output_type": "stream",
     "text": [
      "Downloading dataset to ../data/inaturalist_v1.0...\n",
      "You can also download the dataset manually at https://wilds.stanford.edu/downloads.\n",
      "Using downloaded and verified file: ../data/inaturalist_v1.0/archive.tar.gz\n",
      "Extracting ../data/inaturalist_v1.0/archive.tar.gz to ../data/inaturalist_v1.0\n",
      "\n",
      "../data/inaturalist_v1.0/archive.tar.gz may be corrupted. Please try deleting it and rerunning this command.\n",
      "\n",
      "Exception:  Compressed file ended before the end-of-stream marker was reached\n"
     ]
    },
    {
     "data": {
      "image/png": "[encoded data removed]",
      "text/plain": [
       "<Figure size 432x288 with 1 Axes>"
      ]
     },
     "metadata": {
      "needs_background": "light"
     },
     "output_type": "display_data"
    }
   ],
   "source": [
    "ds_name = \"inaturalist\"\n",
    "epochs = 20\n",
    "sample_rate = 0.0001\n",
    "\n",
    "df = pd.merge(df1[['sigma', 'tst disparity']], df2[['sigma', 'tst disparity']], on=\"sigma\")\n",
    "\n",
    "eps = get_sigma_epsilon(ds_name, epochs, sample_rate, df['sigma'].tolist(), False)\n",
    "eps = [eps[s] for s in df['sigma'].tolist()]\n",
    "weps = get_sigma_epsilon(ds_name, epochs, sample_rate, df['sigma'].tolist(), True)\n",
    "weps = [weps[s] for s in df['sigma'].tolist()]\n",
    "\n",
    "plt.plot(eps, df['tst disparity_x'].tolist(), label=\"DP\")\n",
    "plt.plot(weps, df['tst disparity_y'].tolist(), label=\"DP IW\")\n",
    "\n",
    "plt.xticks(fontsize=fontsize)\n",
    "plt.yticks(fontsize=fontsize)\n",
    "plt.xscale(\"log\")\n",
    "plt.xlabel(\"Epsilon\", fontsize=fontsize)\n",
    "plt.ylabel(\"Disparity\", fontsize=fontsize)\n",
    "plt.legend(fontsize=fontsize)\n",
    "plt.tight_layout()\n",
    "plt.savefig(f\"./figs/disparity_{ds_name}.png\")\n",
    "plt.show()"
   ]
  }
 ],
 "metadata": {
  "kernelspec": {
   "display_name": "Python 3",
   "language": "python",
   "name": "python3"
  },
  "language_info": {
   "codemirror_mode": {
    "name": "ipython",
    "version": 3
   },
   "file_extension": ".py",
   "mimetype": "text/x-python",
   "name": "python",
   "nbconvert_exporter": "python",
   "pygments_lexer": "ipython3",
   "version": "3.8.12"
  }
 },
 "nbformat": 4,
 "nbformat_minor": 5
}
