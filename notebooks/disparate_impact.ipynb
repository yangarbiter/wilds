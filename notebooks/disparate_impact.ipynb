{
 "cells": [
  {
   "cell_type": "code",
   "execution_count": 1,
   "id": "f4adfe02-286e-47f9-b081-76269e36d79d",
   "metadata": {},
   "outputs": [],
   "source": [
    "import sys\n",
    "sys.path.append(\"../\")\n",
    "import os\n",
    "\n",
    "import numpy as np\n",
    "import pandas as pd\n",
    "import matplotlib.pyplot as plt\n",
    "import joblib\n",
    "import torch\n",
    "import seaborn as sns\n",
    "from opacus.accountants.rdp import RDPAccountant\n",
    "\n",
    "import wilds\n",
    "from wilds.common.grouper import CombinatorialGrouper\n",
    "\n",
    "\n",
    "sns.set_style(\"whitegrid\")\n",
    "\n",
    "plt.rcParams['text.usetex'] = True #Let TeX do the typsetting\n",
    "plt.rcParams['text.latex.preamble'] = r\"\"\"\n",
    "\\usepackage{sansmath}\n",
    "\\sansmath\n",
    "\"\"\" #Force sans-serif math mode (for axes labels)\n",
    "plt.rcParams['font.family'] = 'sans-serif' # ... for regular text\n",
    "plt.rcParams['font.sans-serif'] = 'Helvetica, Avant Garde, Computer Modern Sans serif' # Choose a nice font here\n",
    "\n",
    "fontsize = 15"
   ]
  },
  {
   "cell_type": "code",
   "execution_count": 10,
   "id": "6fa9bb58-43bf-477e-8a1f-f287b7a8b2a5",
   "metadata": {},
   "outputs": [],
   "source": [
    "def get_sampling_weights(ds_name):\n",
    "    full_dataset = wilds.get_dataset(\n",
    "        dataset=ds_name,\n",
    "        version=\"1.0\",\n",
    "        root_dir=\"../data\",\n",
    "        download=True,\n",
    "        split_scheme=\"official\")\n",
    "\n",
    "    train_grouper = CombinatorialGrouper(\n",
    "            dataset=full_dataset,\n",
    "            groupby_fields=full_dataset._metadata_fields)\n",
    "\n",
    "    trn_dset = full_dataset.get_subset(\n",
    "                \"train\",\n",
    "                train_grouper=train_grouper,\n",
    "                frac=1.0,\n",
    "                subsample_to_minority=False)\n",
    "\n",
    "    groups, group_counts = train_grouper.metadata_to_group(\n",
    "                    trn_dset.metadata_array,\n",
    "                    return_counts=True)\n",
    "    group_weights = 1 / group_counts\n",
    "    weights = group_weights[groups]\n",
    "    weights = weights / weights.sum() * len(trn_dset)\n",
    "    return weights\n",
    "    \n",
    "def get_privacy_spent(sigma, epochs, n_iters, sample_rate, alphas):\n",
    "    accountant = RDPAccountant()\n",
    "    for _ in range(epochs):\n",
    "        for _ in range(n_iters):\n",
    "            accountant.step(noise_multiplier=sigma, sample_rate=sample_rate)\n",
    "    return accountant.get_privacy_spent(delta=1e-5, alphas=alphas)\n",
    "\n",
    "def get_sigma_epsilon(ds_name, epochs, sample_rate, sigmas, weighted_sampling=True):\n",
    "    alphas = [1 + x / 2000.0 for x in range(1, 20000)] + list(range(12, 64))\n",
    "\n",
    "    if weighted_sampling:\n",
    "        weight = get_sampling_weights(ds_name).max().item()\n",
    "    else:\n",
    "        weight = 1.0\n",
    "\n",
    "    data = {}\n",
    "    for sigma in sigmas:\n",
    "        epsilon, alpha = get_privacy_spent(sigma, epochs, int(1 / sample_rate), sample_rate * weight, alphas)\n",
    "        data[sigma] = epsilon\n",
    "    return data"
   ]
  },
  {
   "cell_type": "code",
   "execution_count": 3,
   "id": "f518cd2e-02eb-4e17-880f-fabd1c8e7a92",
   "metadata": {},
   "outputs": [],
   "source": [
    "def get_res(log_path, col_names):\n",
    "    df = pd.read_csv(f\"{log_path}/train_eval.csv\")\n",
    "    trn_res = df[col_names].values.tolist()[-1]\n",
    "    df = pd.read_csv(f\"{log_path}/test_eval.csv\")\n",
    "    tst_res = df[col_names].values.tolist()[-1]\n",
    "    return trn_res, tst_res"
   ]
  },
  {
   "cell_type": "code",
   "execution_count": 5,
   "id": "ddecb7aa-0e3d-4b2a-baf5-13c6a4c82338",
   "metadata": {},
   "outputs": [],
   "source": [
    "column_names = [\n",
    "    (\"train\", \"not blond\", \"female\"),\n",
    "    (\"train\", \"not blond\", \"male\"),\n",
    "    (\"train\", \"blond\", \"female\"),\n",
    "    (\"train\", \"blond\", \"male\"),\n",
    "    (\"test\", \"not blond\", \"female\"),\n",
    "    (\"test\", \"not blond\", \"male\"),\n",
    "    (\"test\", \"blond\", \"female\"),\n",
    "    (\"test\", \"blond\", \"male\"),\n",
    "]\n",
    "order = ['ERM', 'IWERM', 'gDRO', 'DP ERM', 'DP ERM IW']\n",
    "def key_fn(x):\n",
    "    ret = []\n",
    "    for xi in x:\n",
    "        if xi in order:\n",
    "            ret.append(order.index(xi))\n",
    "        else:\n",
    "            ret.append(0 if xi == \"train\" else 1)\n",
    "    return ret\n",
    "\n",
    "#df = pd.DataFrame.from_dict(data).transpose()\n",
    "#df.columns = pd.MultiIndex.from_tuples(column_names)\n",
    "#df = df.stack(0)\n",
    "#df = df.sort_index(axis=0, level=[0, 1], key=key_fn)\n",
    "#print(df.to_latex(float_format=\"%.2f\", multirow=True).replace(\"llrrrr\", \"llcccc\").replace(\"{l}\", \"{c}\"))"
   ]
  },
  {
   "cell_type": "code",
   "execution_count": 6,
   "id": "3bf1df92-6585-4446-be44-538845c3557b",
   "metadata": {},
   "outputs": [],
   "source": [
    "def get_data(sigmas, log_paths, col_names):\n",
    "    #base_path = \"../logs/\"\n",
    "    base_path = \"./data/\"\n",
    "    \n",
    "    results = {}\n",
    "    for sigma, log_path in zip(sigmas, log_paths):\n",
    "        results.setdefault(\"sigma\", []).append(sigma)\n",
    "\n",
    "        df = pd.read_csv(os.path.join(base_path, f\"{ds_name}/{log_path}/train_eval.csv\"))\n",
    "        train_res = df[[\"epoch\", \"acc_avg\", \"acc_wg\"] + col_names].values\n",
    "        results.setdefault(\"trn acc\", []).append(train_res[-1][1])\n",
    "        results.setdefault(\"trn wg acc\", []).append(train_res[-1][2])\n",
    "        disparity = np.max(train_res[-1][4:]) - np.min(train_res[-1][4:])\n",
    "        results.setdefault(\"trn disparity\", []).append(disparity)\n",
    "\n",
    "        df = pd.read_csv(os.path.join(base_path, f\"{ds_name}/{log_path}/test_eval.csv\"))\n",
    "        res = df[[\"epoch\", \"acc_avg\", \"acc_wg\", \"epsilon\"] + col_names].values.tolist()\n",
    "        results.setdefault(\"tst acc\", []).append(res[-1][1])\n",
    "        results.setdefault(\"tst wg acc\", []).append(res[-1][2])\n",
    "        results.setdefault(\"epsilon\", []).append(res[-1][3])\n",
    "        disparity = np.max(res[-1][4:]) - np.min(res[-1][4:])\n",
    "        results.setdefault(\"tst disparity\", []).append(disparity)\n",
    "\n",
    "    for k, v in results.items():\n",
    "        results[k] = np.array(v)\n",
    "    return results"
   ]
  },
  {
   "cell_type": "code",
   "execution_count": 7,
   "id": "0d68f21b-0af7-412a-95eb-451294ce64c6",
   "metadata": {},
   "outputs": [],
   "source": [
    "ds_name = \"celebA\"\n",
    "\n",
    "col_names = ['acc_y:notblond_male:0', 'acc_y:notblond_male:1', 'acc_y:blond_male:0', 'acc_y:blond_male:1']\n",
    "\n",
    "sigmas = [0.0001, 0.001, 0.01, 0.1, 1.0, 10.0]\n",
    "log_paths = []\n",
    "for sigma in sigmas:\n",
    "    log_paths.append(f\"erm-dp_resnet50-lr1e-3-dpsgd_1e-5_{sigma}_1.0_0.0001\")\n",
    "    \n",
    "data = get_data(sigmas, log_paths, col_names)\n",
    "df1 = pd.DataFrame.from_dict(data)\n",
    "\n",
    "sigmas = [0.001, 0.01, 0.1, 1.0]\n",
    "log_paths = []\n",
    "for sigma in sigmas:\n",
    "    log_paths.append(f\"weightederm-dp_resnet50-dpsgd_1e-5_{sigma}_1.0_0.0001\")\n",
    "data = get_data(sigmas, log_paths, col_names)\n",
    "df2 = pd.DataFrame.from_dict(data)"
   ]
  },
  {
   "cell_type": "code",
   "execution_count": 12,
   "id": "fe1d0e9f-e41c-4db5-999b-4c30060eeeb3",
   "metadata": {},
   "outputs": [
    {
     "name": "stderr",
     "output_type": "stream",
     "text": [
      "/home/arbiter/.pyenv/versions/3.8.12/envs/spurious_ml/lib/python3.8/site-packages/opacus/accountants/analysis/rdp.py:320: UserWarning: Optimal order is the smallest alpha. Please consider expanding the range of alphas to get a tighter privacy bound.\n",
      "  warnings.warn(\n"
     ]
    },
    {
     "data": {
      "image/png": "[encoded data removed]",
      "text/plain": [
       "<Figure size 432x288 with 1 Axes>"
      ]
     },
     "metadata": {},
     "output_type": "display_data"
    }
   ],
   "source": [
    "ds_name = \"celebA\"\n",
    "epochs = 50\n",
    "sample_rate = 0.0001\n",
    "\n",
    "df = pd.merge(df1[['sigma', 'tst disparity']], df2[['sigma', 'tst disparity']], on=\"sigma\")\n",
    "\n",
    "eps = get_sigma_epsilon(ds_name, epochs, sample_rate, df['sigma'].tolist(), False)\n",
    "eps = [eps[s] for s in df['sigma'].tolist()]\n",
    "weps = get_sigma_epsilon(ds_name, epochs, sample_rate, df['sigma'].tolist(), True)\n",
    "weps = [weps[s] for s in df['sigma'].tolist()]\n",
    "\n",
    "plt.plot(eps, df['tst disparity_x'].tolist(), label=\"DP\")\n",
    "plt.plot(weps, df['tst disparity_y'].tolist(), label=\"DP IW\")\n",
    "\n",
    "plt.xticks(fontsize=fontsize)\n",
    "plt.yticks(fontsize=fontsize)\n",
    "plt.xscale(\"log\")\n",
    "plt.xlabel(\"Privacy budget $\\epsilon$\", fontsize=fontsize)\n",
    "plt.ylabel(\"Disparity\", fontsize=fontsize)\n",
    "plt.legend(fontsize=fontsize, frameon=False)\n",
    "plt.tight_layout()\n",
    "plt.savefig(f\"./figs/disparity_{ds_name}.png\")\n",
    "plt.show()"
   ]
  },
  {
   "cell_type": "code",
   "execution_count": null,
   "id": "f2246718-a469-4cfb-a1d2-b32f88d98414",
   "metadata": {},
   "outputs": [],
   "source": []
  },
  {
   "cell_type": "code",
   "execution_count": null,
   "id": "6068910a-3a3b-45a3-9046-203141126b4e",
   "metadata": {},
   "outputs": [],
   "source": []
  },
  {
   "cell_type": "code",
   "execution_count": 19,
   "id": "90ec5b87-9d04-4fbc-864e-28508bb71260",
   "metadata": {},
   "outputs": [],
   "source": [
    "ds_name = \"utkface\"\n",
    "\n",
    "col_names = [\n",
    "    'acc_y:male_race:White',\n",
    "    'acc_y:male_race:Black',\n",
    "    'acc_y:male_race:Asian',\n",
    "    'acc_y:male_race:Indian',\n",
    "    'acc_y:male_race:Others',\n",
    "    'acc_y:female_race:White',\n",
    "    'acc_y:female_race:Black',\n",
    "    'acc_y:female_race:Asian',\n",
    "    'acc_y:female_race:Indian',\n",
    "    'acc_y:female_race:Others',\n",
    "]\n",
    "\n",
    "base_path = \"./data\"\n",
    "\n",
    "data = {}\n",
    "log_path = os.path.join(base_path, \"utkface/erm-resnet50/\")\n",
    "data[\"ERM\"] = np.concatenate(get_res(log_path, col_names))\n",
    "log_path = os.path.join(base_path, \"utkface/iwerm-resnet50/\")\n",
    "data[\"IWERM\"] = np.concatenate(get_res(log_path, col_names))\n",
    "log_path = os.path.join(base_path, \"utkface/erm-dp_resnet50-lr1e-3-dpsgd_1e-5_0.1_1.0_0.001/\")\n",
    "data[\"DP ERM\"] = np.concatenate(get_res(log_path, col_names))\n",
    "log_path = os.path.join(base_path, \"utkface/weightederm-dp_resnet50-lr1e-3-dpsgd_1e-5_0.1_1.0_0.001/\")\n",
    "data[\"DP ERM IW\"] = np.concatenate(get_res(log_path, col_names))"
   ]
  },
  {
   "cell_type": "code",
   "execution_count": 20,
   "id": "6adb35b7-f5e3-4c3e-8127-82520fde00a5",
   "metadata": {},
   "outputs": [
    {
     "name": "stdout",
     "output_type": "stream",
     "text": [
      "\\begin{tabular}{llccccc|ccccc}\n",
      "\\toprule\n",
      "          &      & \\multicolumn{5}{c}{female} & \\multicolumn{5}{c}{male} \\\\\n",
      "          &      &  Asian & Black & Indian & Others & White & Asian & Black & Indian & Others & White \\\\\n",
      "\\midrule\n",
      "\\multirow{2}{*}{ERM} & train &   1.00 &  1.00 &   1.00 &   0.99 &  1.00 &  1.00 &  1.00 &   1.00 &   0.99 &  1.00 \\\\\n",
      "          & test &   0.82 &  0.85 &   0.89 &   0.84 &  0.89 &  0.87 &  0.96 &   0.93 &   0.93 &  0.95 \\\\\n",
      "\\cline{1-12}\n",
      "\\multirow{2}{*}{IWERM} & train &   1.00 &  1.00 &   1.00 &   0.99 &  1.00 &  1.00 &  1.00 &   1.00 &   0.99 &  1.00 \\\\\n",
      "          & test &   0.86 &  0.89 &   0.91 &   0.86 &  0.91 &  0.87 &  0.95 &   0.93 &   0.89 &  0.93 \\\\\n",
      "\\cline{1-12}\n",
      "\\multirow{2}{*}{DP ERM} & train &   0.87 &  0.89 &   0.94 &   0.90 &  0.90 &  0.86 &  0.96 &   0.92 &   0.85 &  0.91 \\\\\n",
      "          & test &   0.87 &  0.90 &   0.93 &   0.96 &  0.93 &  0.76 &  0.92 &   0.88 &   0.77 &  0.88 \\\\\n",
      "\\cline{1-12}\n",
      "\\multirow{2}{*}{DP ERM IW} & train &   0.87 &  0.90 &   0.93 &   0.95 &  0.88 &  0.89 &  0.95 &   0.92 &   0.85 &  0.89 \\\\\n",
      "          & test &   0.78 &  0.81 &   0.83 &   0.81 &  0.81 &  0.90 &  0.96 &   0.95 &   0.88 &  0.93 \\\\\n",
      "\\bottomrule\n",
      "\\end{tabular}\n",
      "\n"
     ]
    }
   ],
   "source": [
    "column_names = []\n",
    "for i in [\"train\", \"test\"]:\n",
    "    for j in [\"male\", \"female\"]:\n",
    "        for k in [\"White\", \"Black\", \"Asian\", \"Indian\", \"Others\"]:\n",
    "            column_names.append((i, j, k))\n",
    "            \n",
    "order = ['ERM', 'IWERM', 'DP ERM', 'DP ERM IW']\n",
    "def key_fn(x):\n",
    "    ret = []\n",
    "    for xi in x:\n",
    "        if xi in order:\n",
    "            ret.append(order.index(xi))\n",
    "        else:\n",
    "            ret.append(0 if xi == \"train\" else 1)\n",
    "    return ret\n",
    "\n",
    "df = pd.DataFrame.from_dict(data).transpose()\n",
    "df.columns = pd.MultiIndex.from_tuples(column_names)\n",
    "df = df.stack(0)\n",
    "df = df.sort_index(axis=0, level=[0, 1], key=key_fn)\n",
    "print(df.to_latex(float_format=\"%.2f\", multirow=True).replace(\"llrrrrrrrrrr\", \"llccccc|ccccc\").replace(\"{l}\", \"{c}\"))"
   ]
  },
  {
   "cell_type": "code",
   "execution_count": 21,
   "id": "cdcf3ac5-7ee1-4ae5-9a57-fce55e80e482",
   "metadata": {},
   "outputs": [],
   "source": [
    "ds_name = \"utkface\"\n",
    "\n",
    "col_names = [\n",
    "    'acc_y:male_race:White',\n",
    "    'acc_y:male_race:Black',\n",
    "    'acc_y:male_race:Asian',\n",
    "    'acc_y:male_race:Indian',\n",
    "    'acc_y:male_race:Others',\n",
    "    'acc_y:female_race:White',\n",
    "    'acc_y:female_race:Black',\n",
    "    'acc_y:female_race:Asian',\n",
    "    'acc_y:female_race:Indian',\n",
    "    'acc_y:female_race:Others',\n",
    "]\n",
    "\n",
    "sigmas = [0.0001, 0.001, 0.01, 0.1, 1.0, 10.0]\n",
    "log_paths = []\n",
    "for sigma in sigmas:\n",
    "    log_paths.append(f\"erm-dp_resnet50-lr1e-3-dpsgd_1e-5_{sigma}_1.0_0.001\")\n",
    "data = get_data(sigmas, log_paths, col_names)\n",
    "df1 = pd.DataFrame.from_dict(data)\n",
    "\n",
    "sigmas = [0.0001, 0.001, 0.01, 0.1, 1.0, 10.0]\n",
    "log_paths = []\n",
    "for sigma in sigmas:\n",
    "    log_paths.append(f\"weightederm-dp_resnet50-lr1e-3-dpsgd_1e-5_{sigma}_1.0_0.001\")\n",
    "data = get_data(sigmas, log_paths, col_names)\n",
    "df2 = pd.DataFrame.from_dict(data)"
   ]
  },
  {
   "cell_type": "code",
   "execution_count": 22,
   "id": "2101112d-b183-44b4-83c9-4771ba261f11",
   "metadata": {},
   "outputs": [
    {
     "name": "stderr",
     "output_type": "stream",
     "text": [
      "/home/arbiter/.pyenv/versions/3.8.12/envs/spurious_ml/lib/python3.8/site-packages/opacus/accountants/analysis/rdp.py:320: UserWarning: Optimal order is the smallest alpha. Please consider expanding the range of alphas to get a tighter privacy bound.\n",
      "  warnings.warn(\n"
     ]
    },
    {
     "name": "stdout",
     "output_type": "stream",
     "text": [
      "Downloading dataset to ../data/UTKFace_v1.0...\n",
      "You can also download the dataset manually at https://wilds.stanford.edu/downloads.\n",
      "Downloading  to ../data/UTKFace_v1.0/archive.tar.gz\n"
     ]
    },
    {
     "name": "stderr",
     "output_type": "stream",
     "text": [
      "/home/arbiter/.pyenv/versions/3.8.12/envs/spurious_ml/lib/python3.8/site-packages/opacus/accountants/analysis/rdp.py:320: UserWarning: Optimal order is the largest alpha. Please consider expanding the range of alphas to get a tighter privacy bound.\n",
      "  warnings.warn(\n"
     ]
    },
    {
     "data": {
      "application/vnd.jupyter.widget-view+json": {
       "model_id": "e324d9f644554b21a8fedc84325796f8",
       "version_major": 2,
       "version_minor": 0
      },
      "text/plain": [
       "0Byte [00:00, ?Byte/s]"
      ]
     },
     "metadata": {},
     "output_type": "display_data"
    },
    {
     "name": "stdout",
     "output_type": "stream",
     "text": [
      "\n",
      "../data/UTKFace_v1.0/archive.tar.gz may be corrupted. Please try deleting it and rerunning this command.\n",
      "\n",
      "Exception:  unknown url type: ''\n",
      "problem with:  ../data/UTKFace_v1.0/39_1_20170116174525125.jpg.chip.jpg\n",
      "problem with:  ../data/UTKFace_v1.0/61_1_20170109142408075.jpg.chip.jpg\n",
      "problem with:  ../data/UTKFace_v1.0/61_1_20170109150557335.jpg.chip.jpg\n"
     ]
    },
    {
     "data": {
      "image/png": "[encoded data removed]",
      "text/plain": [
       "<Figure size 432x288 with 1 Axes>"
      ]
     },
     "metadata": {},
     "output_type": "display_data"
    }
   ],
   "source": [
    "ds_name = \"utkface\"\n",
    "epochs = 100\n",
    "sample_rate = 0.001\n",
    "\n",
    "df = pd.merge(df1[['sigma', 'tst disparity']], df2[['sigma', 'tst disparity']], on=\"sigma\")\n",
    "\n",
    "eps = get_sigma_epsilon(ds_name, epochs, sample_rate, df['sigma'].tolist(), False)\n",
    "eps = [eps[s] for s in df['sigma'].tolist()]\n",
    "weps = get_sigma_epsilon(ds_name, epochs, sample_rate, df['sigma'].tolist(), True)\n",
    "weps = [weps[s] for s in df['sigma'].tolist()]\n",
    "\n",
    "plt.plot(eps, df['tst disparity_x'].tolist(), label=\"DP\")\n",
    "plt.plot(weps, df['tst disparity_y'].tolist(), label=\"DP IW\")\n",
    "\n",
    "plt.xticks(fontsize=fontsize)\n",
    "plt.yticks(fontsize=fontsize)\n",
    "plt.xscale(\"log\")\n",
    "plt.xlabel(\"Privacy budget $\\epsilon$\", fontsize=fontsize)\n",
    "plt.ylabel(\"Disparity\", fontsize=fontsize)\n",
    "plt.legend(fontsize=fontsize, frameon=False)\n",
    "plt.tight_layout()\n",
    "plt.savefig(f\"./figs/disparity_{ds_name}.png\")\n",
    "plt.show()"
   ]
  },
  {
   "cell_type": "markdown",
   "id": "f5ede03e-47c4-48a0-b1d1-21a9cfa2abf7",
   "metadata": {},
   "source": [
    "# iNaturalist"
   ]
  },
  {
   "cell_type": "code",
   "execution_count": 295,
   "id": "c6734a66-4942-4c21-a264-9149010b9483",
   "metadata": {},
   "outputs": [
    {
     "name": "stdout",
     "output_type": "stream",
     "text": [
      "0.0001\n",
      "0.001\n",
      "0.01\n",
      "0.1\n",
      "1.0\n"
     ]
    }
   ],
   "source": [
    "ds_name = \"inaturalist\"\n",
    "\n",
    "col_names = [\n",
    "    'acc_y:Actinopterygii',\n",
    "    'acc_y:Amphibia',\n",
    "    'acc_y:Animalia',\n",
    "    'acc_y:Arachnida',\n",
    "    'acc_y:Aves', 'acc_y:Chromista',\n",
    "    'acc_y:Fungi', 'acc_y:Insecta',\n",
    "    'acc_y:Mammalia', 'acc_y:Mollusca',\n",
    "    'acc_y:Plantae',\n",
    "    'acc_y:Protozoa',\n",
    "    'acc_y:Reptilia',\n",
    "]\n",
    "\n",
    "sigmas = [0.0001, 0.001, 0.01, 0.1, 1.0]\n",
    "log_paths = []\n",
    "for sigma in sigmas:\n",
    "    log_paths.append(f\"erm-dp_resnet18-lr1e-3-dpsgd_1e-5_{sigma}_1.0_0.0001\")\n",
    "data = get_data(sigmas, log_paths, col_names)\n",
    "df1 = pd.DataFrame.from_dict(data)\n",
    "\n",
    "sigmas = [0.0001, 0.001, 0.01, 0.1, 1.0]\n",
    "log_paths = []\n",
    "for sigma in sigmas:\n",
    "    print(sigma)\n",
    "    log_paths.append(f\"weightederm-dp_resnet18-dpsgd_1e-5_{sigma}_1.0_0.0001\")\n",
    "data = get_data(sigmas, log_paths, col_names)\n",
    "df2 = pd.DataFrame.from_dict(data)"
   ]
  },
  {
   "cell_type": "code",
   "execution_count": 296,
   "id": "29f40d2d-d644-4f26-92f9-16cf4749fb1d",
   "metadata": {},
   "outputs": [
    {
     "name": "stdout",
     "output_type": "stream",
     "text": [
      "Downloading dataset to ../data/inaturalist_v1.0...\n",
      "You can also download the dataset manually at https://wilds.stanford.edu/downloads.\n",
      "Using downloaded and verified file: ../data/inaturalist_v1.0/archive.tar.gz\n",
      "Extracting ../data/inaturalist_v1.0/archive.tar.gz to ../data/inaturalist_v1.0\n",
      "\n",
      "../data/inaturalist_v1.0/archive.tar.gz may be corrupted. Please try deleting it and rerunning this command.\n",
      "\n",
      "Exception:  Compressed file ended before the end-of-stream marker was reached\n"
     ]
    },
    {
     "data": {
      "image/png": "[encoded data removed]",
      "text/plain": [
       "<Figure size 432x288 with 1 Axes>"
      ]
     },
     "metadata": {},
     "output_type": "display_data"
    }
   ],
   "source": [
    "ds_name = \"inaturalist\"\n",
    "epochs = 20\n",
    "sample_rate = 0.0001\n",
    "\n",
    "df = pd.merge(df1[['sigma', 'tst disparity']], df2[['sigma', 'tst disparity']], on=\"sigma\")\n",
    "\n",
    "eps = get_sigma_epsilon(ds_name, epochs, sample_rate, df['sigma'].tolist(), False)\n",
    "eps = [eps[s] for s in df['sigma'].tolist()]\n",
    "weps = get_sigma_epsilon(ds_name, epochs, sample_rate, df['sigma'].tolist(), True)\n",
    "weps = [weps[s] for s in df['sigma'].tolist()]\n",
    "\n",
    "plt.plot(eps, df['tst disparity_x'].tolist(), label=\"DP\")\n",
    "plt.plot(weps, df['tst disparity_y'].tolist(), label=\"DP IW\")\n",
    "\n",
    "plt.xticks(fontsize=fontsize)\n",
    "plt.yticks(fontsize=fontsize)\n",
    "plt.xscale(\"log\")\n",
    "plt.xlabel(\"Privacy budget $\\epsilon$\", fontsize=fontsize)\n",
    "plt.ylabel(\"Disparity\", fontsize=fontsize)\n",
    "plt.legend(fontsize=fontsize)\n",
    "plt.tight_layout()\n",
    "plt.savefig(f\"./figs/disparity_{ds_name}.png\")\n",
    "plt.show()"
   ]
  },
  {
   "cell_type": "code",
   "execution_count": null,
   "id": "634ec527-3924-4161-8a50-860ce84ad4e1",
   "metadata": {},
   "outputs": [],
   "source": []
  }
 ],
 "metadata": {
  "kernelspec": {
   "display_name": "Python 3",
   "language": "python",
   "name": "python3"
  },
  "language_info": {
   "codemirror_mode": {
    "name": "ipython",
    "version": 3
   },
   "file_extension": ".py",
   "mimetype": "text/x-python",
   "name": "python",
   "nbconvert_exporter": "python",
   "pygments_lexer": "ipython3",
   "version": "3.8.12"
  }
 },
 "nbformat": 4,
 "nbformat_minor": 5
}
